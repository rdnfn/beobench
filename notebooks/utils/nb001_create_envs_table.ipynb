{
 "cells": [
  {
   "cell_type": "code",
   "execution_count": 1,
   "metadata": {},
   "outputs": [],
   "source": [
    "%reload_ext autoreload\n",
    "%autoreload 2\n",
    "%config IPCompleter.greedy=True\n",
    "%config IPCompleter.use_jedi=False"
   ]
  },
  {
   "cell_type": "code",
   "execution_count": 2,
   "metadata": {},
   "outputs": [
    {
     "name": "stdout",
     "output_type": "stream",
     "text": [
      "test\n"
     ]
    }
   ],
   "source": [
    "print('test')"
   ]
  },
  {
   "cell_type": "code",
   "execution_count": 15,
   "metadata": {},
   "outputs": [],
   "source": [
    "import pandas as pd\n",
    "import numpy as np\n",
    "\n",
    "# Load data from google sheet\n",
    "sheet_id = \"1QaXBrhDY8tyF9cIBjejDTGMiv5vDUQG0KQ7iVapGQoY\"\n",
    "gid = 1987847080\n",
    "link = f\"https://docs.google.com/feeds/download/spreadsheets/Export?key={sheet_id}&exportFormat=csv&gid={gid}\"\n",
    "envs = pd.read_csv(link)\n",
    "\n",
    "# Preprocessing\n",
    "\n",
    "# Add house type icons\n",
    "def emojify(row):  \n",
    "    house_type = row[\"House type\"]\n",
    "    if house_type == \"residential\":\n",
    "        return \"|home|\"\n",
    "    elif house_type == \"office\":\n",
    "        return \"|office|\"\n",
    "    elif house_type == \"industrial\":\n",
    "        return \"|industry|\"\n",
    "    return \"other\"\n",
    "\n",
    "def new_type(row):  \n",
    "    house_type = row[\"House type\"]\n",
    "    if house_type == \"residential\":\n",
    "        return \"residential building\"\n",
    "    elif house_type == \"office\":\n",
    "        return \"office building\"\n",
    "    elif house_type == \"industrial\":\n",
    "        return \"data center\"\n",
    "    return \"data center\"\n",
    "\n",
    "envs['Type'] = envs.apply(lambda row: emojify(row), axis=1)\n",
    "envs['new_type'] = envs.apply(lambda row: new_type(row), axis=1)\n",
    "\n",
    "# Make sure each env has gym\n",
    "envs['Gym'] = envs['Gym'].replace('', np.NaN)\n",
    "envs['Gym'] = envs['Gym'].fillna(method='ffill',axis=0)\n",
    "\n",
    "\n",
    "\n",
    "\n"
   ]
  },
  {
   "cell_type": "code",
   "execution_count": 16,
   "metadata": {},
   "outputs": [],
   "source": [
    "# Create main environment list\n",
    "\n",
    "def create_main_list(filepath=\"../../docs/envs/envs_list.rst\"):\n",
    "\n",
    "    rst_out = \"\"\n",
    "\n",
    "    for i, gym in enumerate(envs['Gym'].unique()):\n",
    "        gym_envs = envs[envs['Gym']==gym]\n",
    "\n",
    "        rst_out += f\":{gym}:\\n\"\n",
    "\n",
    "        for index, row in gym_envs.iterrows():\n",
    "            env = row[\"Environment\"]\n",
    "            symbol = row[\"Type\"]\n",
    "            #rst_out += f\"    - `{env}`_ {symbol}\\n\"\n",
    "            rst_out += f\"    - `{env}`_\\n\"\n",
    "\n",
    "        # Add hline between gyms\n",
    "        if i < len(envs['Gym'].unique()) - 1:\n",
    "            rst_out += \"\\n----\\n\\n\"\n",
    "\n",
    "    # Add image links\n",
    "    rst_out += \"\"\"\n",
    "    .. |office| image:: https://raw.githubusercontent.com/tabler/tabler-icons/master/icons/building-skyscraper.svg\n",
    "    .. |home| image:: https://raw.githubusercontent.com/tabler/tabler-icons/master/icons/home.svg\n",
    "    .. |industry| image:: https://raw.githubusercontent.com/tabler/tabler-icons/master/icons/building-factory.svg\n",
    "    \"\"\"\n",
    "\n",
    "    with open(filepath, 'w') as file:\n",
    "        file.write(rst_out)\n",
    "\n",
    "\n",
    "create_main_list(filepath=\"../../docs/envs/envs_list.rst\")"
   ]
  },
  {
   "cell_type": "code",
   "execution_count": 17,
   "metadata": {},
   "outputs": [],
   "source": [
    "def create_env_descriptions():\n",
    "    for _, gym in enumerate(envs['Gym'].unique()):\n",
    "        env_descr_file = f\"../../docs/envs/{gym}_descriptions.rst\"\n",
    "        rst_out = \"\"\n",
    "        gym_envs = envs[envs['Gym']==gym]\n",
    "\n",
    "        for _, row in gym_envs.iterrows():\n",
    "            env = row[\"Environment\"]\n",
    "            rst_out += f\"\\n\\n.. _env-{env}: \\n\\n\"\n",
    "            rst_out += f\"``{env}``\\n\"\n",
    "            rst_out += '\"' * (len(env) + 4) + \"\\n\\n\"\n",
    "            #rst_out += f\":Type: {row['new_type']} ({row['Type']})\\n\"\n",
    "            rst_out += f\":Type: {row['new_type']}\\n\"\n",
    "            rst_out += f\":More info: `framework docs <{row['Original docs']}>`_\\n\"\n",
    "\n",
    "        with open(env_descr_file, 'w') as file:\n",
    "            file.write(rst_out)\n",
    "\n",
    "create_env_descriptions()\n",
    "    "
   ]
  },
  {
   "cell_type": "code",
   "execution_count": null,
   "metadata": {},
   "outputs": [],
   "source": []
  }
 ],
 "metadata": {
  "interpreter": {
   "hash": "949777d72b0d2535278d3dc13498b2535136f6dfe0678499012e853ee9abcab1"
  },
  "kernelspec": {
   "display_name": "Python 3.9.7 64-bit",
   "language": "python",
   "name": "python3"
  },
  "language_info": {
   "codemirror_mode": {
    "name": "ipython",
    "version": 3
   },
   "file_extension": ".py",
   "mimetype": "text/x-python",
   "name": "python",
   "nbconvert_exporter": "python",
   "pygments_lexer": "ipython3",
   "version": "3.9.2"
  },
  "orig_nbformat": 4
 },
 "nbformat": 4,
 "nbformat_minor": 2
}
